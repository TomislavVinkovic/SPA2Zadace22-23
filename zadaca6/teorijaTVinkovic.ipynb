{
 "cells": [
  {
   "attachments": {},
   "cell_type": "markdown",
   "metadata": {},
   "source": [
    "# Zadaća 1"
   ]
  },
  {
   "attachments": {},
   "cell_type": "markdown",
   "metadata": {},
   "source": [
    "## Zadatak 1"
   ]
  },
  {
   "attachments": {},
   "cell_type": "markdown",
   "metadata": {},
   "source": [
    "#### 1\\)\n",
    "<img src=\"img1.jpg\" alt=\"Zad 1.1.\" width=\"50%\" height=\"50%\" />\n",
    "\n",
    "#### 2)"
   ]
  },
  {
   "cell_type": "code",
   "execution_count": 1,
   "metadata": {},
   "outputs": [],
   "source": [
    "# pseudokod os-select procedure\n",
    "def os_select(x, i):\n",
    "    r = x.left.size + 1\n",
    "    if(r == i):\n",
    "        return x\n",
    "    if(i < r):\n",
    "        return os_select(x.left, i)\n",
    "    else:\n",
    "        return os_select(x.right, i - r)\n",
    "\n",
    "#pojasnjenje na trazenom primjeru: os_select(root, 8)\n",
    "# 1. x = [29]. r = x.left.size = 6. i > r => os_select(x.right, i = i-r = 2)\n",
    "# 2. x = [56]. r = x.left.size + 1 = 3. i < r => os_select(x.left, i = 2)\n",
    "# 3. x = [37]. r = x.left.size + 1 = 1; i > r => os_select(x.right, i = i - r = 1)\n",
    "# 3. x = [48]. r = x.left.size + 1 = 1; i == r => return x;"
   ]
  },
  {
   "attachments": {},
   "cell_type": "markdown",
   "metadata": {},
   "source": [
    "#### 3\\)"
   ]
  },
  {
   "cell_type": "code",
   "execution_count": null,
   "metadata": {},
   "outputs": [],
   "source": [
    "# pseudokod os-rank procedure\n",
    "def os_rank(T, x):\n",
    "    r = x.left.size + 1\n",
    "    y = x\n",
    "    while y != T.root:\n",
    "        #ako je y desno dijete svog roditelja\n",
    "        #rangu dodaj velicinu lijevog podstabla + 1\n",
    "        if y == y.p.right:\n",
    "            r += y.p.left.size + 1\n",
    "        y = y.p\n",
    "    return r\n",
    "\n",
    "#pojasnjenje na trazenom primjeru: os_rank(T, x=[59])\n",
    "# 1. x = [59]. r = x.left.size + 1 = 1; y = [59];\n",
    "# 2. y == y.p.left => r = 1. y = y.p = [61];\n",
    "# 3. y == y.p.right => r = r + 1 + y.p.left.size = 4; y = y.p = [56];\n",
    "# 4. y == y.p.right => r = r + 1 + y.p.left.size = 5 + 5 = 10; y = y.p = [29];\n",
    "# 5. y == T.root => return r = 10;"
   ]
  },
  {
   "attachments": {},
   "cell_type": "markdown",
   "metadata": {},
   "source": [
    "## Zadatak 2"
   ]
  },
  {
   "cell_type": "code",
   "execution_count": null,
   "metadata": {},
   "outputs": [],
   "source": [
    "#neka vrsta aliasa\n",
    "null = None\n",
    "\n",
    "def os_select_iter(x, i):\n",
    "    #tu se stitim od podvaljenog nullptr-a\n",
    "    if(x == null):\n",
    "        return x\n",
    "    y = x #postavi pomocni pointer y na x\n",
    "    j = i #prekopiraj i u novi brojac j\n",
    "    \n",
    "    #rank proslijedenog cvora. Ukoliko odmah odgovara nece niti uci u petlju\n",
    "    r = y.left.size + 1\n",
    "    \n",
    "    #dok nisi dosao na pravi rankg ili dosao do nullptr-a\n",
    "    while(j != r and y != null):\n",
    "        #relativan rank trenutnog cvora y\n",
    "        r = y.left.size + 1\n",
    "\n",
    "        #j < r => pravi cvor se mora nalaziti negdje lijevo\n",
    "        if(j < r):\n",
    "            y = y.left\n",
    "        #j > r => pravi cvor se mora nalaziti negdje desno\n",
    "        #trazeni rank je sad j - r\n",
    "        if(j > r):\n",
    "            y = y.right\n",
    "            j = j - r\n",
    "    \n",
    "    #bez obzira je li null ili ne, vrati y\n",
    "    return y\n",
    "        "
   ]
  },
  {
   "attachments": {},
   "cell_type": "markdown",
   "metadata": {},
   "source": [
    "## Zadatak 3"
   ]
  },
  {
   "cell_type": "code",
   "execution_count": null,
   "metadata": {},
   "outputs": [],
   "source": [
    "# pretpostavimo da search funkcija AVL-a vraca null\n",
    "# ako nije nasla cvor unutar stabla\n",
    "def os_key_rank(T, k):\n",
    "    x = T.search(k)\n",
    "\n",
    "    # niti jedan cvor ne moze imati rank -1\n",
    "    # pa odmah znamo da nesto ne stima\n",
    "    if(x == null):\n",
    "        return -1\n",
    "    return os_rank(T, x)\n",
    "\n",
    "#VRIJEME IZVRSAVANJA: O(lg n), jer search je O(lg n) + rank je O (lg n)"
   ]
  },
  {
   "attachments": {},
   "cell_type": "markdown",
   "metadata": {},
   "source": [
    "## Zadatak 4"
   ]
  },
  {
   "attachments": {},
   "cell_type": "markdown",
   "metadata": {},
   "source": [
    "#### 1\\)"
   ]
  },
  {
   "cell_type": "code",
   "execution_count": null,
   "metadata": {},
   "outputs": [],
   "source": [
    "#ith successor koristeci nove operacije na augmentiranom avl-u\n",
    "def ithSuccessor(T, x, i):\n",
    "    #dohvati rank proslijedenog nodea\n",
    "    j = os_rank(T, x)\n",
    "\n",
    "    #ako je i = 0 to je kao da trazis rank\n",
    "    #od x, vrati x\n",
    "    if(i == 0):\n",
    "        return x\n",
    "\n",
    "    #inace, njegov i-ti sljedbenik ima rank j + i\n",
    "    return os_select(T.root, j + i)\n",
    "\n",
    "#VRIJEME IZVRSAVANJA: O(lg n) za os-rank + O(lgn) za os-select = O(lg n)"
   ]
  },
  {
   "attachments": {},
   "cell_type": "markdown",
   "metadata": {},
   "source": [
    "#### 2\\)"
   ]
  },
  {
   "cell_type": "code",
   "execution_count": null,
   "metadata": {},
   "outputs": [],
   "source": [
    "#ith successor koristeci stare operacije na augmentiranom AVL-u\n",
    "def ithSuccessor(T, x, i):\n",
    "    y = x\n",
    "    for k in range(1, i + 1):\n",
    "        y = tree_successor(T, x)\n",
    "    return y\n",
    "# VRIJEME IZVRSAVANJA\n",
    "# ovaj algoritam koristi k uzastopnih poziva tree_successor funkcije\n",
    "# za takav algoritam smo u jednoj od prethodnih zadaca pokazali da je njegovo\n",
    "# vrijeme izvrsavanja O(k + h), gdje je k broj prijeđenih grana.\n",
    "# kako je visina stabla h, vrijeme izvrsavanja algoritma je O(k + lg n)"
   ]
  }
 ],
 "metadata": {
  "kernelspec": {
   "display_name": "Python 3",
   "language": "python",
   "name": "python3"
  },
  "language_info": {
   "codemirror_mode": {
    "name": "ipython",
    "version": 3
   },
   "file_extension": ".py",
   "mimetype": "text/x-python",
   "name": "python",
   "nbconvert_exporter": "python",
   "pygments_lexer": "ipython3",
   "version": "3.10.4"
  },
  "orig_nbformat": 4
 },
 "nbformat": 4,
 "nbformat_minor": 2
}
