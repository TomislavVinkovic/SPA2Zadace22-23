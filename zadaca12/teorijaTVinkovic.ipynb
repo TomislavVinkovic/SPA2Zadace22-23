{
 "cells": [
  {
   "attachments": {},
   "cell_type": "markdown",
   "metadata": {},
   "source": [
    "# Zadaca 12"
   ]
  },
  {
   "attachments": {},
   "cell_type": "markdown",
   "metadata": {},
   "source": [
    "## Zadatak 1"
   ]
  },
  {
   "attachments": {},
   "cell_type": "markdown",
   "metadata": {},
   "source": [
    "<img src=\"1.jpeg\" />"
   ]
  },
  {
   "attachments": {},
   "cell_type": "markdown",
   "metadata": {},
   "source": [
    "<img src=\"2.jpeg\" />"
   ]
  },
  {
   "attachments": {},
   "cell_type": "markdown",
   "metadata": {},
   "source": [
    "## Zadatak 2"
   ]
  },
  {
   "attachments": {},
   "cell_type": "markdown",
   "metadata": {},
   "source": [
    "D0:\n",
    "\n",
    "0  INF INF INF -1  INF  \n",
    "1  INF INF 2  INF INF  \n",
    "INF 2  0  INF INF -8   \n",
    "-4  INF INF 0  3  INF  \n",
    "INF 7  INF INF 0  INF  \n",
    "INF 5  10  INF INF 0   \n",
    "\n",
    "\n",
    "D1:\n",
    "\n",
    "0  INF INF INF -1  INF  \n",
    "1  INF INF 2  0  INF  \n",
    "INF 2  0  INF INF -8   \n",
    "-4  INF INF 0  -5  INF  \n",
    "INF 7  INF INF 0  INF  \n",
    "INF 5  10  INF INF 0   \n",
    "\n",
    "\n",
    "D2:\n",
    "\n",
    "0  INF INF INF -1  INF  \n",
    "1  INF INF 2  0  INF  \n",
    "3  2  0  4  2  -8   \n",
    "-4  INF INF 0  -5  INF  \n",
    "8  7  INF 9  0  INF  \n",
    "6  5  10  7  5  0   \n",
    "\n",
    "\n",
    "D3:\n",
    "\n",
    "0  INF INF INF -1  INF  \n",
    "1  INF INF 2  0  INF  \n",
    "3  2  0  4  2  -8   \n",
    "-4  INF INF 0  -5  INF  \n",
    "8  7  INF 9  0  INF  \n",
    "6  5  10  7  5  0   \n",
    "\n",
    "\n",
    "D4:\n",
    "\n",
    "0  INF INF INF -1  INF  \n",
    "-2  INF INF 2  -3  INF  \n",
    "0  2  0  4  -1  -8   \n",
    "-4  INF INF 0  -5  INF  \n",
    "5  7  INF 9  0  INF  \n",
    "3  5  10  7  2  0   \n",
    "\n",
    "\n",
    "D5:\n",
    "\n",
    "0  6  INF 8  -1  INF  \n",
    "-2  4  INF 2  -3  INF  \n",
    "0  2  0  4  -1  -8   \n",
    "-4  2  INF 0  -5  INF  \n",
    "5  7  INF 9  0  INF  \n",
    "3  5  10  7  2  0   \n"
   ]
  },
  {
   "attachments": {},
   "cell_type": "markdown",
   "metadata": {},
   "source": [
    "## Zadatak 3"
   ]
  },
  {
   "cell_type": "code",
   "execution_count": null,
   "metadata": {},
   "outputs": [],
   "source": [
    "# a)\n",
    "from queue import PriorityQueue\n",
    "INF = 1e9\n",
    "def dijkstra(graph, start, end, parent, prob):\n",
    "    prob[start] = 1 # vjerojatnost da ce se moci doci do starta je maksimalna jer do njega nema cesta\n",
    "    pq = PriorityQueue()\n",
    "    # -1, jer trebam extraxt-max umjesto extract-min operaciju\n",
    "    pq.put((-1, start))\n",
    "    while(not pq.empty()):\n",
    "        curr = pq.get()[1]\n",
    "        for edge in graph.edges.whereStart(curr):\n",
    "            if(prob[edge.end] < prob[curr] * edge.prob):\n",
    "                prob[edge.end] = prob[curr] * edge.prob\n",
    "                pq.put((-prob[edge.end], edge.end))\n",
    "        \n",
    "            \n",
    "\n",
    "def shortestPath(graph, start, end):\n",
    "    for edge in graph.edges:\n",
    "        if edge.prob == 1:\n",
    "            graph.removeEdge(edge) # makni ove s vjerojatnoscu 1 jer sigurno kamion nece moci proci tamo\n",
    "    parent = [None] * graph.vertices\n",
    "    prob =  [0] * graph.vertices\n",
    "    dijkstra(graph, start, end, parent, prob)\n",
    "    path = []\n",
    "    curr = end\n",
    "    while(curr != None):\n",
    "        path.append(curr)\n",
    "        curr = parent[curr]\n",
    "    path.reverse()\n",
    "    return path"
   ]
  },
  {
   "cell_type": "code",
   "execution_count": null,
   "metadata": {},
   "outputs": [],
   "source": [
    "# b)\n",
    "# 1)\n",
    "def heaviestTruckInit(graph, start, end, weight):\n",
    "    dp = [-1 for i in range(graph.size)]\n",
    "    dp[0] = INF\n",
    "    heaviestTruck(graph, start, end, dp)\n",
    "    return dp\n",
    "\n",
    "def heaviestTruck(graph, start, end, dp):\n",
    "    max_weight = -1\n",
    "    prev = None\n",
    "    for edge in graph.edges.whereEnd(end):\n",
    "        if(dp[edge.start][end] == -1):\n",
    "            dp[edge.start] = heaviestTruck(graph, start, edge.start, dp)\n",
    "        max_weight = max(max_weight, min(dp[edge.start], edge.weight))\n",
    "    dp[end] = max_weight\n",
    "    return dp[end]\n",
    "\n",
    "# objasnjenje:\n",
    "# Do svakog vrha v iz V moze se doci sa maksimalnom tezinom kamiona w. Ta maksimalna tezina je ili jednaka tezini najtezeg vrha u iz kojeg se moze doci do v ili tezini ceste izmedu tih vrhova, ovisno o tome koja je tezina manja.\n",
    "# Npr, ako od osijeka do Belog manastira mogu otputovati kamionom tezine 30 tona, ali onda cesta do madarske granice podrzava kamion od maksimalno od 25 tona, najveca moguca tezina kamiona je 25 tona jer jedino on moze prijeci cijeli put"
   ]
  },
  {
   "cell_type": "code",
   "execution_count": null,
   "metadata": {},
   "outputs": [],
   "source": [
    "# 2)\n",
    "# Posto su tezine sigurno pozitivne (ceste ne mogu imati negativnu duzinu), koristimo Modificirani Dijsktra algoritam\n",
    "def dijkstra(graph, start, end, truckWeight):\n",
    "    dp = heaviestTruckInit(graph, start, end, truckWeight)\n",
    "    for vertex in graph.vertices:\n",
    "        if(dp[vertex] < truckWeight):\n",
    "            for edge in graph.edges.whereStart(vertex):\n",
    "                graph.removeEdge(edge)\n",
    "    dist = [INF for i in range(graph.size)]\n",
    "    dist[start] = 0\n",
    "    pq = PriorityQueue()\n",
    "    pq.put((0, start))\n",
    "    while(not pq.empty()):\n",
    "        curr = pq.get()[1]\n",
    "        for edge in graph.edges.whereStart(curr):\n",
    "            if(dist[edge.end] > dist[curr] + edge.weight):\n",
    "                dist[edge.end] = dist[curr] + edge.weight\n",
    "                pq.put((dist[edge.end], edge.end))\n",
    "    return dist[end]"
   ]
  },
  {
   "cell_type": "code",
   "execution_count": null,
   "metadata": {},
   "outputs": [],
   "source": [
    "# c)\n",
    "# vertexi predstavljaju gradove\n",
    "# Istocno bi znacilo da od odredista moze ici samo prema istoku, tj. da ne moze 2x posjetiti isti vertex (jer bi u suprotnom mogao ici i prema zapadu)\n",
    "# takoder, ne smije ici juzno/sjeverno, sto znaci da ne smije 2x posjetiti vertex na istom levelu\n",
    "\n",
    "# IDEJA: augmentirati graf tako da svakom vertexu u grafu nadodam vrijednost levela BFS algoritmom. Zatim, ako je level odredista veci od levela polazista, onda moze doci do odredista jer ide istocno, a ako je manji ili jednak, onda ne moze doci do odredista jer bi morao ici prema zapadu/sjeveru/jugu\n",
    "\n",
    "from queue import Queue\n",
    "def modified_bfs(graph, start, end):\n",
    "    level = [-1 for i in range(graph.size)]\n",
    "    level[start] = 0\n",
    "    q = Queue()\n",
    "    q.put(start)\n",
    "    while(not q.empty()):\n",
    "        curr = q.get()\n",
    "        for edge in graph.edges.whereStart(curr):\n",
    "            if(level[edge.end] == -1):\n",
    "                level[edge.end] = level[curr] + 1\n",
    "                q.put(edge.end)\n",
    "\n",
    "def dijkstra(graph, start, end, truckWeight):\n",
    "    dp = heaviestTruckInit(graph, start, end, truckWeight)\n",
    "    # O(V)\n",
    "    for vertex in graph.vertices:\n",
    "        if(dp[vertex] < truckWeight):\n",
    "            for edge in graph.edges.whereStart(vertex):\n",
    "                graph.removeEdge(edge)\n",
    "    # O(V + E)\n",
    "    modified_bfs(graph, start, end) # ovo augmentira graf s levelima\n",
    "\n",
    "    # O(E * lg V)\n",
    "    dist = [INF for i in range(graph.size)]\n",
    "    dist[start] = 0\n",
    "    pq = PriorityQueue()\n",
    "    pq.put((0, start))\n",
    "    while(not pq.empty()):\n",
    "        curr = pq.get()[1]\n",
    "        for edge in graph.edges.whereStart(curr):\n",
    "            if(dist[edge.end] > dist[curr] + edge.weight):\n",
    "                dist[edge.end] = dist[curr] + edge.weight\n",
    "                pq.put((dist[edge.end], edge.end))\n",
    "    return dist[end]"
   ]
  },
  {
   "attachments": {},
   "cell_type": "markdown",
   "metadata": {},
   "source": [
    "# Zadatak 4"
   ]
  },
  {
   "attachments": {},
   "cell_type": "markdown",
   "metadata": {},
   "source": [
    "<img src=\"3.jpeg\" />"
   ]
  },
  {
   "attachments": {},
   "cell_type": "markdown",
   "metadata": {},
   "source": [
    "<img src=\"4.jpeg\" />"
   ]
  },
  {
   "attachments": {},
   "cell_type": "markdown",
   "metadata": {},
   "source": [
    "<img src=\"5.jpeg\" />"
   ]
  }
 ],
 "metadata": {
  "language_info": {
   "name": "python"
  },
  "orig_nbformat": 4
 },
 "nbformat": 4,
 "nbformat_minor": 2
}
