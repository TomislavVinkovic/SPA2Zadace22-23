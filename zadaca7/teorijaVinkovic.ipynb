{
 "cells": [
  {
   "attachments": {},
   "cell_type": "markdown",
   "metadata": {},
   "source": [
    "# Zadaća 7"
   ]
  },
  {
   "attachments": {},
   "cell_type": "markdown",
   "metadata": {},
   "source": [
    "## Zadatak 1"
   ]
  },
  {
   "attachments": {},
   "cell_type": "markdown",
   "metadata": {},
   "source": [
    "Napišite nerekurzivnu verziju FIND-SET sa kompresijom putova."
   ]
  },
  {
   "cell_type": "code",
   "execution_count": null,
   "metadata": {},
   "outputs": [],
   "source": [
    "def find_set(x):\n",
    "    root = x\n",
    "    #nadi root\n",
    "    while root.parent != root:\n",
    "        root = root.parent\n",
    "    \n",
    "    #kompresiraj puteve\n",
    "    while x != root:\n",
    "        parent = x.parent\n",
    "        x.parent = root\n",
    "        x = parent\n",
    "        \n",
    "    return root"
   ]
  },
  {
   "attachments": {},
   "cell_type": "markdown",
   "metadata": {},
   "source": [
    "# Zadatak 2"
   ]
  },
  {
   "attachments": {},
   "cell_type": "markdown",
   "metadata": {},
   "source": [
    "Pokažite kako izgleda rezultirajuća struktura podataka i odgovori koje vrati FIND-SET operacija u sljedećem programu. Koristite reprezentaciju disjunktnih skupova sumom disjunktnih skupova sa unijom po rangu i kompresijom puteva."
   ]
  },
  {
   "cell_type": "code",
   "execution_count": null,
   "metadata": {
    "vscode": {
     "languageId": "javascript"
    }
   },
   "outputs": [],
   "source": [
    "for(let i = 1; i <= 16; i++)\n",
    "    MAKE-SET(i);\n",
    "for(let i = 1; i <= 15; i += 2)\n",
    "    UNION(i, i + 1);\n",
    "for(let i = 1; i <= 13; i += 4)\n",
    "    UNION(i, i + 2);\n",
    "UNION(1, 5);\n",
    "UNION(11, 13);\n",
    "UNION(1, 10);\n",
    "FIND-SET(2);\n",
    "FIND-SET(9);"
   ]
  },
  {
   "attachments": {},
   "cell_type": "markdown",
   "metadata": {},
   "source": [
    "1. Originalno imamo 16 skupova koje unosimo petljom 1, svaki sadrži i = 1,2,..16.\n",
    "\n",
    "2. Unijom susjeda u petlji 2 dobivamo:\n",
    "    **{1,2},{3,4},{5,6},{7,8},{9,10},{11,12},{13,14},{15,16}**\n",
    "\n",
    "3. Unijom svakog trećeg elementa u petlji 3 dobivamo:\n",
    "    **{1,2,3,4},{5,6,7,8},{9,10,11,12},{13,14,15,16}**\n",
    "\n",
    "4. Unijama na linijama 7 i 8 dobivamo po 2 od gornjih skupova spojeno:\n",
    "    **{1,2,3,4,5,6,7,8},{9,10,11,12,13,14,15,16}**\n",
    "    \n",
    "5. Napokon, linijom 8 dobivamo jedan skup s vrijednostima 1-16:\n",
    "    **{1,2,3,4,5,6,7,8,9,10,11,12,13,14,15,16}**\n",
    "\n",
    "FIND-SET(2) i FIND-SET(9) će oba vratiti pointer na isti root(jer su oba elementa na istom setu).\n",
    "Ako pretpostavimo da uvijek uzimamo root lijevog skupa kao root unije, oni će vratiti pointer na jedinicu (jer krećemo spajati od jedinice koja je sama sebi root)"
   ]
  },
  {
   "attachments": {},
   "cell_type": "markdown",
   "metadata": {},
   "source": [
    "# Zadatak 3"
   ]
  },
  {
   "attachments": {},
   "cell_type": "markdown",
   "metadata": {},
   "source": [
    "Za dani niz od m MAKE-SET, UNION i FIND-SET operacija, od kojih je n MAKE-SET, pokažite da je potrebno Ω(m lg n) vremena kada koristimo uniju po rangu."
   ]
  },
  {
   "attachments": {},
   "cell_type": "markdown",
   "metadata": {},
   "source": [
    "1. Napravimo n MAKE-SET operacija, odnosno napravimo n setova sa samo jednim elementom.\n",
    "\n",
    "2. Zatim, kako bismo napravili uniju svih setova u jedan veliki set, koristimo 2ˆ{floor(log_2 n)} - 1 UNION operacija unijom po rangu (bez kompresije puteva). Tako ćemo kreirati binomijalnu hrpu dubine floor(log_2 n). To vrijedi jer unija 2 binomijalne hrpe dubine k daje binomijalnu hrpu dubine k + 1, pa će dubine redom po unijama ići 2,3,4... (UNION(3,4) npr daje hrpu dubine 2, ako su hrpe {3} i {4} dubina 1).\n",
    "\n",
    "\n",
    "3. Zasad smo iskoristili n + 2ˆ{floor(log_2 n)} -1 operacija. Kako je ova potencija broja 2 omeđena s n od gore zbog svojstva logaritma, a 1 je konstanta, možemo ovo omeđiti na 2n operacija od gore.\n",
    "4. Ova hrpa sad sigurno ima čvor na dubini floor(log_2 n). Neka taj čvor ima vrijednost k. Taj čvor je reprezentant (nemamo heuristiku težinske unije pa uvijek spajamo s lijeva na desno).\n",
    "\n",
    "5. Sljedećih m - 2n poziva će dakle imati vremensku složenost O(lg n), jer je čvor na dubini floor(lg_2 n). Kako je m >= n iz uvjeta zadatka, m - 2n možemo omeđiti odozgo sa m. Tako će ukupna složenost algoritma biti od dolje omeđena s Ω(m lg n)."
   ]
  },
  {
   "attachments": {},
   "cell_type": "markdown",
   "metadata": {},
   "source": [
    "# Zadatak 4"
   ]
  },
  {
   "attachments": {},
   "cell_type": "markdown",
   "metadata": {},
   "source": [
    "Napišite pseudokod za MAKE-SET, FIND-SET i UNION koristeći povezanu listu kao reprezentaciju i heuristiku težinske unije. "
   ]
  },
  {
   "cell_type": "code",
   "execution_count": null,
   "metadata": {},
   "outputs": [],
   "source": [
    "def make_set(x):\n",
    "    o = {} #nekakav objekt\n",
    "    l = [] #linked lista\n",
    "    l.head = l.tail = o\n",
    "\n",
    "    o.next = None\n",
    "    o.set = l\n",
    "    o.value = x #reprezentant\n",
    "\n",
    "    l.size = 1 # velicina liste je bitna\n",
    "    return l"
   ]
  },
  {
   "cell_type": "code",
   "execution_count": null,
   "metadata": {},
   "outputs": [],
   "source": [
    "def find_set(x):\n",
    "    #o je objekt iz make_set\n",
    "    #ovo radi jer je head liste o, a njegov value je reprezentant\n",
    "    return o.set.head.value"
   ]
  },
  {
   "cell_type": "code",
   "execution_count": null,
   "metadata": {},
   "outputs": [],
   "source": [
    "def union(x,y):\n",
    "    L1= x.set\n",
    "    L2 = y.set\n",
    "    \n",
    "    if L1.size < L2.size:\n",
    "        union(y,x)\n",
    "    l2s = L2.size\n",
    "\n",
    "    L1.tail.next = L2.head\n",
    "    z = L2.head\n",
    "    while z.next != None:\n",
    "        z.set = L1\n",
    "    L1.tail = L2.tail\n",
    "\n",
    "    L1.size += L2.size\n",
    "    return L1"
   ]
  },
  {
   "attachments": {},
   "cell_type": "markdown",
   "metadata": {},
   "source": [
    "# Zadatak 5"
   ]
  },
  {
   "attachments": {},
   "cell_type": "markdown",
   "metadata": {},
   "source": [
    "Profesor Gompers pretpostavlja da bi bilo moguće zadržati samo jedan pokazivač u svakom objektu skupa, umjesto dva (head i tail), zadržavajući broj pokazivača u svakom elementu liste na dva. Pokažite da je profesorova pretpostavka dobro utemeljena tako što ćete opisati kako predstaviti svaki skup povezanom listom tako da svaka operacija ima isto vrijeme izvršavanja kao i prije. Također opišite kako operacije funkcioniraju. Vasa bi shema trebala omogućiti heuristiku težinske unije, s\n",
    "istim učinkom kao i prije."
   ]
  },
  {
   "cell_type": "code",
   "execution_count": null,
   "metadata": {},
   "outputs": [],
   "source": [
    "def transform(set):\n",
    "    # postavi root skupa na njegov tail\n",
    "    set.root = set.tail\n",
    "    for node in set:\n",
    "        # umjesto na objekt, pokazuj na tail\n",
    "        node.set_begin = set.tail\n",
    "        # ovo mice potrebu za tail pointerom na samom objektu\n",
    "\n",
    "# ovako bismo tail mogli i dalje dohvatiti u konstantnom vremenu jer pratimo samo 2 pointera\n",
    "# MAKE-SET: ostaje nepromijenjen\n",
    "# FIND-SET: ostaje nepromijenjen\n",
    "# UNION: trik je da manji skup prikacimo slijeva većem.\n",
    "# Razlog tomu je što će sad reprezentant biti tail, pa ćemo sve elemente manjeg skupa updatetati tako da\n",
    "# im je reprezentant reprezentant većeg skupa. Kako je skup manji, radimo manje updatea.\n"
   ]
  },
  {
   "attachments": {},
   "cell_type": "markdown",
   "metadata": {},
   "source": [
    "<img src=\"zad5.png\">"
   ]
  }
 ],
 "metadata": {
  "language_info": {
   "name": "python"
  },
  "orig_nbformat": 4
 },
 "nbformat": 4,
 "nbformat_minor": 2
}
