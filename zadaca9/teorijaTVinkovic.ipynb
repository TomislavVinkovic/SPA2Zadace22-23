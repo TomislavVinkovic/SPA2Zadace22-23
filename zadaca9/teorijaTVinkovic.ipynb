{
 "cells": [
  {
   "attachments": {},
   "cell_type": "markdown",
   "metadata": {},
   "source": [
    "# Zadaća 9"
   ]
  },
  {
   "attachments": {},
   "cell_type": "markdown",
   "metadata": {},
   "source": [
    "## Zadatak 1"
   ]
  },
  {
   "attachments": {},
   "cell_type": "markdown",
   "metadata": {},
   "source": [
    "<img src='1.jpeg' style='width: 50%'>"
   ]
  },
  {
   "attachments": {},
   "cell_type": "markdown",
   "metadata": {},
   "source": [
    "<img src='2.jpeg' style='width: 50%'>"
   ]
  },
  {
   "attachments": {},
   "cell_type": "markdown",
   "metadata": {},
   "source": [
    "<img src='4.jpeg' style='width: 50%'>"
   ]
  },
  {
   "attachments": {},
   "cell_type": "markdown",
   "metadata": {},
   "source": [
    "## Zadatak 2"
   ]
  },
  {
   "attachments": {},
   "cell_type": "markdown",
   "metadata": {},
   "source": [
    "<img src='3.jpeg' style='width: 50%'>"
   ]
  },
  {
   "attachments": {},
   "cell_type": "markdown",
   "metadata": {},
   "source": [
    "## Zadatak 3"
   ]
  },
  {
   "cell_type": "code",
   "execution_count": 1,
   "metadata": {},
   "outputs": [],
   "source": [
    "# a)\n",
    "def MAYBE_MST_A(G, w):\n",
    "    E = G.edges\n",
    "    E.sort('desc')\n",
    "    T = E\n",
    "    for e in T:\n",
    "        if (T - {e}).isConnected():\n",
    "            T = T - {e}\n",
    "    return T"
   ]
  },
  {
   "attachments": {},
   "cell_type": "markdown",
   "metadata": {},
   "source": [
    "### Korektnost\n",
    "Ovaj algoritam vraća MST. Kako bismo to dokazali, moramo dokazati da nikad nećemo maknuti brid koji je dio MST-a.\n",
    "Ukoliko maknemo e, on ne smije biti rub koji jedinstveno spaja čvor s grafom (inače gubimo svojstvo povezanosti). To znači da se e mora nalaziti unutar nekog ciklusa. Kako ćemo maknuti najveći element iz ciklusa zbog padajućeg poretka, taj put koji je bio ciklus će imati najmanju moguću težinu. Također, on će biti teži od svakog sljedećeg elementa u E zbog već spominjućeg padajućeg poretka.\n",
    "\n",
    "### Vremenska složenost i najbolja implementacija\n",
    "Sortiranje bridova košta O(E * lg E) vremena (zbog donje determinističke granice za sortiranje algoritama s uspoređivanjem).\n",
    "Kod micanja svakog brida, moramo provjeriti je li graf povezan. Za svaku od tih provjera pozivamo DFS koji košta O(V + E). Kako imamo E takvih poziva, ukupna vremenska složenost je O(E * (V + E)), jer on dominira nad polilogaritamskim sortiranjem."
   ]
  },
  {
   "cell_type": "code",
   "execution_count": 2,
   "metadata": {},
   "outputs": [],
   "source": [
    "# b)\n",
    "def MAYBE_MST_B(G, w):\n",
    "    T = {}\n",
    "    E = G.edges\n",
    "    # bridove uzimamo u proizvoljnom poretku\n",
    "    for e in E:\n",
    "        if not union(T, {e}).hasCycles():\n",
    "            T = union(T, {e})\n",
    "    return T\n"
   ]
  },
  {
   "attachments": {},
   "cell_type": "markdown",
   "metadata": {},
   "source": [
    "### Korektnost\n",
    "Ovaj algoritam je očitp nekorektan. Kako bismo to dokazali, dovoljno ga je usporediti s algoritmom gore.\n",
    "Jedini razlog zašto je algoritam gore bio valjan jest zato što smo imali padajući poredak rubova. Ako nemamo to svojstvo, tada se moće dogoditi da lakši rub obrišemo prije težega ruba u ciklusu, što će rezultirati neoptimalnim rješenjem.\n",
    "\n",
    "### Vremenska složenost i najbolja implementacija\n",
    "Kako bismo ovo implementirali, koristit ćemo uniju disjunktnih skupova, heuristiku težinske unije i kompresiju puteva, tako da je amortizirano vrijeme izvršavanja unije A(E) gdje je A inverz Ackermannove funkcije koju smo obradili na predavanju. Ona je iznimno sporo rastuća, i iznosi najviše 4 za bilo koji razuman prirodan broj, tj. manji od broja atoma u svemiru.\n",
    "Korištenjem navedenih optimizacija vrijeme izvršavanja operacija MAKE-SET i FIND-SET je konstantno. Unija, kao što sam već napisao, košta A(E) u amortiziranom vremenu. Kako radimo E tih operacija, ukupno vrijeme izvršavanja je O(E * A(E)) u amortiziranom vremenu."
   ]
  },
  {
   "cell_type": "code",
   "execution_count": 3,
   "metadata": {},
   "outputs": [],
   "source": [
    "# c)\n",
    "def MAYBE_MST_C(G, w):\n",
    "    T = {}\n",
    "    for e in G.edges:\n",
    "        T = union(T, {e})\n",
    "        c = T.hasCycle()\n",
    "        if c:\n",
    "            e = c.max_weight_edge()\n",
    "            T = T - {e}\n",
    "    return T"
   ]
  },
  {
   "attachments": {},
   "cell_type": "markdown",
   "metadata": {},
   "source": [
    "### Korektnost algoritma\n",
    "Ova metoda će vratiti MST, jer je ekvivalentna metodi pod a).\n",
    "Razlog tomu je što, pod 1., nikad nećemo brisati bridove koji čvor spajaju s grafom na jedinstven način (kao ni pod a). Nadalje, ako se brid nalazi u ciklusu(i samim time je kandidat za brisanje), uvijek ćemo obrisati brid najveće težine, što je ekvivalentno (sa strane korektnosti) sortiranju svih vrhova, pa brisanju prvog (ili zadnjeg, ovisi u kojem poretku sortiramo).\n",
    "\n",
    "### Vremenska složenost i najbolja implementacija\n",
    "Kako bismo ovo implementirali, koristit ćemo uniju disjunktnih skupova, heuristiku težinske unije i kompresiju puteva, tako da je amortizirano vrijeme izvršavanja unije A(E).\n",
    "Kako bismo provjerili ima li skup ciklus, to će nas koštati O(V) jer dodavanjem jednog brida možemo dodati maksimalno jedan ciklus, a imamo V čvorova, pa će bridova biti E = V-1+1 = V.\n",
    "Potonja operacija će doinirati vremenskom složenošću, a kako radimo E takvih operacija, ukupna vremenska složenost iznosi O(VE).\n"
   ]
  }
 ],
 "metadata": {
  "kernelspec": {
   "display_name": "Python 3",
   "language": "python",
   "name": "python3"
  },
  "language_info": {
   "codemirror_mode": {
    "name": "ipython",
    "version": 3
   },
   "file_extension": ".py",
   "mimetype": "text/x-python",
   "name": "python",
   "nbconvert_exporter": "python",
   "pygments_lexer": "ipython3",
   "version": "3.11.2"
  },
  "orig_nbformat": 4
 },
 "nbformat": 4,
 "nbformat_minor": 2
}
