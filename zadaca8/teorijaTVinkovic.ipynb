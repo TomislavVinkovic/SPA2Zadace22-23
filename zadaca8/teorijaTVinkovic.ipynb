{
 "cells": [
  {
   "attachments": {},
   "cell_type": "markdown",
   "metadata": {},
   "source": [
    "# Zadaća 8"
   ]
  },
  {
   "attachments": {},
   "cell_type": "markdown",
   "metadata": {},
   "source": [
    "## Zadatak 1"
   ]
  },
  {
   "cell_type": "code",
   "execution_count": null,
   "metadata": {},
   "outputs": [],
   "source": [
    "def sum_paths_worker(T, x, sum, acc, path, paths):\n",
    "    if x == None:\n",
    "        if acc == x:\n",
    "            paths.append(path)\n",
    "        return\n",
    "    path.append(x)\n",
    "    if acc + x.value == sum and x.isLeaf():\n",
    "        paths.append(path)\n",
    "        return\n",
    "    if acc + x.value >= sum:\n",
    "        return\n",
    "    if acc + x.value < sum:\n",
    "        sum_paths_worker(T, x.left, sum, acc + x.value, path, paths)\n",
    "        sum_paths_worker(T, x.right, sum, acc + x.value, path, paths)\n",
    "\n",
    "def sum_paths(T, sum):\n",
    "    paths = []\n",
    "    # Paths lista se prosljeduje po referenci\n",
    "    # Inicijalni path, on se prosljeduje po vrijednosti\n",
    "    sum_paths_worker(T, T.root, sum, 0, [], paths)\n",
    "    return paths"
   ]
  },
  {
   "attachments": {},
   "cell_type": "markdown",
   "metadata": {},
   "source": [
    "<img src='zad1Pr.jpeg' style='width: 50%'>"
   ]
  },
  {
   "attachments": {},
   "cell_type": "markdown",
   "metadata": {},
   "source": [
    "### Objašnjenje algoritma\n",
    "1. funkcija sum_paths inicijalizira praznu listu puteva i poziva metodu sum_paths worker s parametrima(stablo, čvor od kojeg kreće(korijen), suma koja se traži, akumulirana vrijednost(na početku 0), trenutni path(proslijeđen po vrijednosti) i paths listu(proslijeđenu po referenci))\n",
    "\n",
    "2. sum_paths_worker na početku nadodaje node u trenutni path. Zatim, provjearava je li on list i je li suma dosadašnjih nodeova jednaka sumi. Ako je, vrati taj put. Ako je veća ili jednaka(uz uvjet da put nije list), vrati se iz te grane računanja jer sigurno dalje nećeš naći dobar put. Ako je manja, idi rekurzivno u lijevo i desno dijete. Na početku se nalazi još i rub rekurzije za nullptr."
   ]
  },
  {
   "attachments": {},
   "cell_type": "markdown",
   "metadata": {},
   "source": [
    "### Vremenska složenost algoritma\n",
    "\n",
    "Vremenska složenost ovog algoritma je sigurno O(n), gdje je n broj čvorova, jer ćemo u najgorem slučaju morati proći sve grane do njihovih listova."
   ]
  },
  {
   "attachments": {},
   "cell_type": "markdown",
   "metadata": {},
   "source": [
    "## Zadatak 2"
   ]
  },
  {
   "cell_type": "code",
   "execution_count": null,
   "metadata": {},
   "outputs": [],
   "source": [
    "# u ovom zadatku objasnjenja ce biti u komentarima\n",
    "\n",
    "#queue koji moze deque-ati s bilo koje strane, ali moze se korsititi i kao obican, koristan za BFS\n",
    "from collections import deque\n",
    "\n",
    "def build_path_worker(path, paths, prev, i, j):\n",
    "    if i == 0 and j == 0:\n",
    "        # reversan path u zagradi\n",
    "        paths.append(path[::-1])\n",
    "        return\n",
    "    else:\n",
    "        # rekurzivno ponovi rekonstrukciju patha za svaki prev\n",
    "        for p in prev[i][j]:\n",
    "            build_path_worker(path + [p], paths, prev, p[0], p[1])\n",
    "\n",
    "def build_path(path, prev, i, j):\n",
    "    paths = []\n",
    "    build_path_worker(path, paths, prev, i, j)\n",
    "    return paths\n",
    "\n",
    "\n",
    "def find_shortest_path(maze):\n",
    "    # broj redaka i stupaca\n",
    "    m, n = len(maze), len(maze[0])\n",
    "\n",
    "    # queue za BFS algoritam\n",
    "    q = deque()\n",
    "\n",
    "    # ove liste su formatirane kao [[redak][redak]..]\n",
    "    # udaljenosti od cvora do pocetnog cvora\n",
    "    d = []\n",
    "    # lista prethodnih cvorova svakog cvora\n",
    "    prev = []\n",
    "    for i in range(0, m):\n",
    "        d[i] = []\n",
    "        prev[i] = []\n",
    "        for j in range(0, n):\n",
    "            d[i].append(1e9)\n",
    "            prev[i].append(None)\n",
    "\n",
    "    #udaljenost od pocetnog cvora do pocetnog cvora je 0\n",
    "    d[0][0] = 0\n",
    "\n",
    "    # BFS\n",
    "    # dok deque nije prazan\n",
    "    while q:\n",
    "        i, j = q.popleft()\n",
    "        # pogledaj desnog susjeda\n",
    "        if j+1 < n and maze[i][j+1] == 0:\n",
    "            dist = d[i][j] + 1\n",
    "            # ako je udaljenost kroz cvor od v kroz u do pocetnog cvora\n",
    "            # manja nego trenutna najmanja udaljenost do v\n",
    "            # updateaj distance i prethodni cvor od v\n",
    "            if dist < d[i][j+1]:\n",
    "                d[i][j+1] = d\n",
    "                prev[i][j+1] = [(i, j)]\n",
    "                q.append((i, j+1))\n",
    "            # ako je udaljenost ista, svejedno dodaj path u shortest pathove jer ih moze biti vise\n",
    "            elif d == d[i][j+1]:\n",
    "                prev[i][j+1].append((i, j))\n",
    "        \n",
    "        # pogledaj donjeg susjeda\n",
    "        if i+1 < m and maze[i+1][j] == 0:\n",
    "            dist = d[i][j] + 1\n",
    "            #isto kao i gore\n",
    "            if dist < d[i+1][j]:\n",
    "                d[i+1][j] = d\n",
    "                prev[i+1][j] = [(i, j)]\n",
    "                q.append((i+1, j))\n",
    "            elif d == d[i+1][j]:\n",
    "                prev[i+1][j].append((i, j))\n",
    "\n",
    "    # izgradi sve moguce puteve do kraja\n",
    "    # lista puteva\n",
    "    paths = build_path([(m-1, n-1), prev, m-1, n-1])\n",
    "\n",
    "    return paths"
   ]
  },
  {
   "attachments": {},
   "cell_type": "markdown",
   "metadata": {},
   "source": [
    "### Primjer"
   ]
  },
  {
   "attachments": {},
   "cell_type": "markdown",
   "metadata": {},
   "source": [
    "<img src='zad2Pr.jpeg' style='width: 50%'>"
   ]
  },
  {
   "attachments": {},
   "cell_type": "markdown",
   "metadata": {},
   "source": [
    "### Vremenska složenost algoritma\n",
    "\n",
    "Vremenska složenost algoritma je O(V + E), gdje je V broj prijeđenih čvorova, a E broj prijeđenih rubova."
   ]
  },
  {
   "attachments": {},
   "cell_type": "markdown",
   "metadata": {},
   "source": [
    "## Zadatak 3"
   ]
  },
  {
   "cell_type": "code",
   "execution_count": null,
   "metadata": {},
   "outputs": [],
   "source": [
    "# Pogrijesio si u definiciji zadatka. Kub grafa ima najviše 3 ruba, ne 2\n",
    "\n",
    "# algoritam za listu uredenih parova vrhova\n",
    "def cube_graph_construction_algorithm(AdjList):\n",
    "    hashmap = {}\n",
    "    Adj3List = []\n",
    "\n",
    "    # pronađi sve veze koje su udaljene s najviše 3 brida\n",
    "    for u in AdjList:\n",
    "        Adj3List[u] = []\n",
    "        for v in AdjList.of(u):\n",
    "            if(hashmap(u,v) == None):\n",
    "                Adj3List[u].append(v)\n",
    "                hashmap[(u,v)] = (u,v)\n",
    "            for w in AdjList.of(v):\n",
    "                if(hashmap(u,w) == None):\n",
    "                    Adj3List[u].append(w)\n",
    "                    hashmap[(u,w)] = (u,w)\n",
    "                for z in AdjList.of(w):\n",
    "                    if(hashmap(u,z) == None):\n",
    "                        Adj3List[u].append(z)\n",
    "                        hashmap[(u,z)] = (u,z)\n",
    "\n",
    "# algoritam za matricu susjedstava\n",
    "def cube_graph_adjMatrix_construction_algorithm(adjMatrix):\n",
    "    # prema resursu s interneta, ove matrice će nam dati\n",
    "    # poveznice između čvorova koji imaju točno 2, tj. točno 3 brida između\n",
    "    pow2Matrix = adjMatrix * adjMatrix\n",
    "    pow3Matrix = pow2Matrix * adjMatrix\n",
    "\n",
    "    # unija: tamo gdje je u grafu barem jedna jedinica, stavi jedinicu tamo\n",
    "    # unija je potrebna jer se neki putevi mogu izgubiti potenciranjem. Vidi slike dolje.\n",
    "    adj3Matrix = union(adjMatrix, pow2Matrix, pow3Matrix)\n",
    "\n",
    "    return adj3Matrix"
   ]
  },
  {
   "attachments": {},
   "cell_type": "markdown",
   "metadata": {},
   "source": [
    "<img src='pows.png'>"
   ]
  },
  {
   "attachments": {},
   "cell_type": "markdown",
   "metadata": {},
   "source": [
    "<img src='pows2.png'>"
   ]
  },
  {
   "attachments": {},
   "cell_type": "markdown",
   "metadata": {},
   "source": [
    "<img src='pows3.png'>"
   ]
  },
  {
   "attachments": {},
   "cell_type": "markdown",
   "metadata": {},
   "source": [
    "<img src='g1.png'> <br>\n",
    "<i>Graf</i>"
   ]
  },
  {
   "attachments": {},
   "cell_type": "markdown",
   "metadata": {},
   "source": [
    "<img src='g2.png'> <br>\n",
    "<i>Kub grafa</i>"
   ]
  },
  {
   "attachments": {},
   "cell_type": "markdown",
   "metadata": {},
   "source": [
    "### Vremenska složenost algoritama\n",
    "Vremenska složenost algoritma sa listom: Vremenska složenost ovog algoritma je O(V*E), gdje je V broj vrhova, a E broj rubova. Ovo je iz razloga što ćemo za svaki vrh E proći najviše V čvorova. \n",
    "\n",
    "Vremenska složenost algoritma s unijom: O(nˆ2 * log n), što je najpoznatija gornja granica za računanje umnoška dviju matrica. Operacija unije košta O(n)."
   ]
  },
  {
   "attachments": {},
   "cell_type": "markdown",
   "metadata": {},
   "source": [
    "## Zadatak 4"
   ]
  },
  {
   "attachments": {},
   "cell_type": "markdown",
   "metadata": {},
   "source": [
    "**Ideja**: Napraviti usmjeren graf u kojemu će se nalaziti n čvorova, gdje je n duljina stringa. U tom grafu, neka je svaki čvor i, i <= n spojen sa svakim čvorom j kao i->j, j >= i, tj. svako slovo je spojeno sa svakim koje u riječi dolazi nakon njega. Zatim BFS obilaskom proći sve moguće kombinacije subsequencea. Dodatno, možemo dinamičkim programiranjem bitno smanjiti vremensku složenost algoritma, pošto se dosta kombinacija ponavlja (working tree iz primjera ne primjenjuje dp pristup), tako da sa svakim indeksom i u tablici označimo najdulji subsequence koji možemo dosegnuti iz tog čvora."
   ]
  },
  {
   "attachments": {},
   "cell_type": "markdown",
   "metadata": {},
   "source": [
    "<h4>Primjer:</h4>\n",
    "<img src='zad4.jpeg' style='width: 50%'>"
   ]
  },
  {
   "cell_type": "code",
   "execution_count": null,
   "metadata": {},
   "outputs": [],
   "source": [
    "# Pseudokod\n",
    "def longest_palindrome(s):\n",
    "    # funkcija koju već negdje imamo koja implementira opisani graf iz stringa\n",
    "    graph = make_graph(s)\n",
    "    # iz svakog cvora moze se doci do palindroma duljine barem 1, a to je njegovo slovo\n",
    "    dp = [letter for letter in s]\n",
    "    \n",
    "    # vertices[0] predstavlja pocetni node\n",
    "    visited = [False for vertex in graph.vertices()]\n",
    "    modified_dfs(dp, graph.vertices[0], visited, \"\")\n",
    "\n",
    "    longest = dp[0]\n",
    "    for pal in dp:\n",
    "        if len(pal) > len(longest):\n",
    "            longest = pal\n",
    "    \n",
    "    return longest\n",
    "    \n",
    "\n",
    "def modified_dfs(dp, vertex, visited, pal):\n",
    "    visited[vertex.position] = True\n",
    "    # content je slovo u nodeu\n",
    "    pal += vertex.content\n",
    "    # pretpostavljamo najbrzu implementaciju palindroma koja ima n/2 operacija, tj. O(n), n duljina stringa\n",
    "    if is_palindrome(pal):\n",
    "        # nastavi sa granom racunanja <=> je trenutni string palindrom\n",
    "        # vertex.position je indeks slova u rijeci\n",
    "        if len(pal) > len(dp[vertex.position]):\n",
    "            dp[vertex.position] = pal\n",
    "        \n",
    "        #ova funkcija apstraktira stack push i pop operacije za neighbore\n",
    "        while vertex.hasNeighbour():\n",
    "            n = vertex.nextNeighbour().position\n",
    "            if not visited[n]:\n",
    "                modified_dfs(dp, n, visited, pal)"
   ]
  },
  {
   "attachments": {},
   "cell_type": "markdown",
   "metadata": {},
   "source": [
    "# Vremenska složenost algoritma\n",
    "Vremenska složenost algoritma je O( (V+E)*n ) u najgorem slučaju, gdje je O(V+E) složenost algoritma DFS, a n je najdulja moguća duljina stringa."
   ]
  }
 ],
 "metadata": {
  "kernelspec": {
   "display_name": "Python 3",
   "language": "python",
   "name": "python3"
  },
  "language_info": {
   "codemirror_mode": {
    "name": "ipython",
    "version": 3
   },
   "file_extension": ".py",
   "mimetype": "text/x-python",
   "name": "python",
   "nbconvert_exporter": "python",
   "pygments_lexer": "ipython3",
   "version": "3.11.2"
  },
  "orig_nbformat": 4
 },
 "nbformat": 4,
 "nbformat_minor": 2
}
