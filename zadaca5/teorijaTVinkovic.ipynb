{
 "cells": [
  {
   "attachments": {},
   "cell_type": "markdown",
   "metadata": {},
   "source": [
    "# Zadaća 5"
   ]
  },
  {
   "attachments": {},
   "cell_type": "markdown",
   "metadata": {},
   "source": [
    "## Zadatak 1"
   ]
  },
  {
   "cell_type": "code",
   "execution_count": null,
   "metadata": {},
   "outputs": [],
   "source": [
    "def rightRotate(T, x):\n",
    "\n",
    "    #ne mozes rotirati desno ako x nema lijevo dijete\n",
    "    if(x.left == None):\n",
    "        return\n",
    "\n",
    "    y = x.left #za y uzimamo lijevo dijete od x\n",
    "    x.left = y.right #za novo lijevo dijete od x uzimamo desno dijete od y\n",
    "\n",
    "    if(y.right != None):\n",
    "        y.right.parent = x #uspostavi i drugu stranu veze ako desno dijete od y postoji\n",
    "\n",
    "    if(x.parent == None):\n",
    "        T.root = y #slucaj kad je x bas root, y postaje root\n",
    "\n",
    "    elif(x == x.parent.left):\n",
    "        x.parent.left = y #ako je x lijevo dijete svog roditelja, njegovo novo lijevo dijete postaje x\n",
    "\n",
    "    else:\n",
    "        x.parent.right = y #ako je x desno dijete svog roditelja, njegovo novo desno dijete postaje x\n",
    "    \n",
    "    y.parent = x.parent #uspostavi i drugu stranu veze\n",
    "    y.right = x #x postaje desno dijete od y\n",
    "    x.parent = y #y postaje roditelj od x"
   ]
  },
  {
   "attachments": {},
   "cell_type": "markdown",
   "metadata": {},
   "source": [
    "![image.png](rightRotate.png)"
   ]
  },
  {
   "attachments": {},
   "cell_type": "markdown",
   "metadata": {},
   "source": [
    "## Zadatak 2"
   ]
  },
  {
   "attachments": {},
   "cell_type": "markdown",
   "metadata": {},
   "source": [
    "### Definicije:\n",
    "- balanceFactor: node je balansiran ako je njegov balance factor -1, 0 ili 1. Balance factor definiramo kao: visina desnog djeteta vs visina lijevog djeteta. Visina lista je 0, a visina nullptr-a je -1\n",
    "\n",
    "- lijevo težak node: balans mu narušava lijevo podstablo, dakle balans mu je -2\n",
    "\n",
    "- desno težak node: balans mu narušava desno podstablo, dakle balans mu je 2"
   ]
  },
  {
   "cell_type": "code",
   "execution_count": null,
   "metadata": {},
   "outputs": [],
   "source": [
    "class Node:\n",
    "    def __init__(self, val) -> None:\n",
    "        self.left = None\n",
    "        self.right = None\n",
    "        self.parent = None\n",
    "        self.height = 0\n",
    "        self.balanceFactor = 0\n",
    "        self.value = val\n",
    "\n",
    "def leftRotate(T, n):\n",
    "    pass #analogno kao i right rotate\n",
    "\n",
    "def update(node):\n",
    "\n",
    "    #visina nullptra je -1\n",
    "    lh = -1\n",
    "    rh = -1\n",
    "\n",
    "    if(node.left != None):\n",
    "        lh = node.left.height\n",
    "    if(node.right != None):\n",
    "        rh = node.right.height\n",
    "\n",
    "    node.height = 1 + max(lh, rh)\n",
    "    node.balanceFactor = rh - lh\n",
    "\n",
    "def avl_insert(T, node, val):\n",
    "    if(node == None):\n",
    "        return Node(val)\n",
    "    \n",
    "\n",
    "    if(val < node.value):\n",
    "        node.left = avl_insert(T, node.left, val)\n",
    "    else:\n",
    "        node.right = avl_insert(T, node.right, val)\n",
    "\n",
    "    #azuriraj balans faktor nodea\n",
    "    update(node)\n",
    "\n",
    "    return balance(node)\n",
    "\n",
    "def balance(node):\n",
    "    if(node.balanceFactor == -2):\n",
    "        #stablo je lijevo-teško\n",
    "        if node.left.balanceFactor <= 0:\n",
    "            return leftLeftCase(node)\n",
    "        else:\n",
    "            return leftRightCase(node)\n",
    "        \n",
    "    elif(node.balanceFactor == 2):\n",
    "        if(node.right.balanceFactor >= 0):\n",
    "            return rightRightCase(node)\n",
    "        else:\n",
    "            return rightLeftCase(node)\n",
    "        \n",
    "    #inace je node balansiran\n",
    "    return node\n",
    "\n",
    "def leftLeftCase(node):\n",
    "    return rightRotate(node)\n",
    "\n",
    "def leftRightCase(node):\n",
    "    node.left = leftRotate(node.left)\n",
    "    return leftLeftCase(node)\n",
    "\n",
    "def rightRightCase(node):\n",
    "    return leftRotate(node)\n",
    "\n",
    "def rightLeftCase(node):\n",
    "    node.right = rightRotate(node.left)\n",
    "    return rightRightCase(node)"
   ]
  },
  {
   "attachments": {},
   "cell_type": "markdown",
   "metadata": {},
   "source": [
    "### Analiza vremenske složenosti\n",
    "Kao što smo spomenuli na predavanju, broj razina stabla (a samim time i njegova visina) raste logaritamski u odnosu na broj čvorova.\n",
    "Kako kod svakog binarnog stabla insert operacija košta O(h) vremena, a znamo da je h = O(lgn), možemo zaključiti da insert jednog ključa u stablo košta O(lg n)."
   ]
  }
 ],
 "metadata": {
  "language_info": {
   "name": "python"
  },
  "orig_nbformat": 4
 },
 "nbformat": 4,
 "nbformat_minor": 2
}
